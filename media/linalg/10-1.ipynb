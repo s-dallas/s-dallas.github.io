{
 "cells": [
  {
   "cell_type": "code",
   "execution_count": 9,
   "metadata": {},
   "outputs": [
    {
     "name": "stdout",
     "output_type": "stream",
     "text": [
      "Variables: \n",
      " [-4.   2.   7.5]\n",
      "\n",
      "Coefficients matrix: \n",
      " [[ 3 -1  0]\n",
      " [ 1  4 -1]\n",
      " [ 0  1  6]]\n",
      "\n",
      "Constants: \n",
      " [-14.   -3.5  47. ]\n"
     ]
    }
   ],
   "source": [
    "# D. Scott\n",
    "# Linear Algebra: TCI\n",
    "# Code Challenge 10.1\n",
    "# Create all components of system of equations\n",
    "# (variables, coefficients, constants)\n",
    "\n",
    "import numpy as np\n",
    "\n",
    "# create variables vector\n",
    "soln = [-4,2,7.5]\n",
    "soln = np.array(soln,dtype=float)\n",
    "\n",
    "print(\"Variables: \\n\",soln)\n",
    "\n",
    "# create coefficients matrix for system:\n",
    "#    3x - y\n",
    "#     x + 4y - z\n",
    "#          y + 6z\n",
    "A = np.zeros((3,3),dtype=int)\n",
    "A[0][0] = 3\n",
    "A[0][1] = -1\n",
    "A[1][0] = 1\n",
    "A[1][1] = 4\n",
    "A[1][2] = -1\n",
    "A[2][1] = 1\n",
    "A[2][2] = 6\n",
    "\n",
    "print(\"\\nCoefficients matrix: \\n\",A)\n",
    "\n",
    "print(\"\\nConstants: \\n\",A@soln)"
   ]
  }
 ],
 "metadata": {
  "kernelspec": {
   "display_name": "base",
   "language": "python",
   "name": "python3"
  },
  "language_info": {
   "codemirror_mode": {
    "name": "ipython",
    "version": 3
   },
   "file_extension": ".py",
   "mimetype": "text/x-python",
   "name": "python",
   "nbconvert_exporter": "python",
   "pygments_lexer": "ipython3",
   "version": "3.9.12"
  },
  "orig_nbformat": 4
 },
 "nbformat": 4,
 "nbformat_minor": 2
}
