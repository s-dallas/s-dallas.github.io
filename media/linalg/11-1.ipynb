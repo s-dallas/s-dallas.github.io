{
 "cells": [
  {
   "cell_type": "code",
   "execution_count": 26,
   "metadata": {},
   "outputs": [
    {
     "name": "stdout",
     "output_type": "stream",
     "text": [
      "A:\n",
      " [[ 8  4 10  2]\n",
      " [ 4  2  8 10]\n",
      " [ 8  1  3  2]\n",
      " [ 4  1  2 10]]\n",
      "beta =  -10\n",
      "det(beta*A) =  7920000.000000001\n",
      "beta^4*det(A) =  7920000.000000001\n",
      "\n",
      "They are equal.\n"
     ]
    }
   ],
   "source": [
    "# D. Scott\n",
    "# Linear Algebra: TCI\n",
    "# Code Challenge 11.1\n",
    "# Verify that determinant of scaled matrix is same as determinant of\n",
    "# matrix scaled by scaling factor * number of rows in matrix\n",
    "\n",
    "import random\n",
    "import numpy as np\n",
    "\n",
    "# generate random 4 x 4 matrix\n",
    "num1 = []\n",
    "for i in range(0,16):\n",
    "    num1.append(random.randint(0,10))\n",
    "A = np.array(num1).reshape(4,4)\n",
    "\n",
    "print(\"A:\\n\",A)\n",
    "\n",
    "beta = random.randint(-10,-1)\n",
    "print(\"beta = \",beta)\n",
    "\n",
    "print(\"det(beta*A) = \",np.linalg.det(beta*A))\n",
    "print(\"beta^4*det(A) = \",np.linalg.det(A)*beta**4)\n",
    "\n",
    "print(\"\\nThey are equal.\")"
   ]
  }
 ],
 "metadata": {
  "kernelspec": {
   "display_name": "base",
   "language": "python",
   "name": "python3"
  },
  "language_info": {
   "codemirror_mode": {
    "name": "ipython",
    "version": 3
   },
   "file_extension": ".py",
   "mimetype": "text/x-python",
   "name": "python",
   "nbconvert_exporter": "python",
   "pygments_lexer": "ipython3",
   "version": "3.9.12"
  },
  "orig_nbformat": 4
 },
 "nbformat": 4,
 "nbformat_minor": 2
}
