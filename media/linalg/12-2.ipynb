{
 "cells": [
  {
   "cell_type": "code",
   "execution_count": 7,
   "metadata": {},
   "outputs": [
    {
     "name": "stdout",
     "output_type": "stream",
     "text": [
      "Square:\n",
      " [[ 2 -2  4 -1  9]\n",
      " [10  8  1 10 -3]\n",
      " [ 6  3  8 -3 -2]\n",
      " [ 9  1 11 11 -1]\n",
      " [ 5  0  4  7  2]]\n",
      "\n",
      "Inverse (square):\n",
      " [[-0.29061811 -0.13185666  0.34454366 -0.56001392  1.17453323]\n",
      " [ 0.3346863   0.24921721 -0.26510495  0.47094979 -1.16189261]\n",
      " [ 0.16200858  0.04198075 -0.11585295  0.33573002 -0.61405543]\n",
      " [ 0.06215934  0.04975067 -0.1511075   0.17963586 -0.26638061]\n",
      " [ 0.18497043  0.07155282 -0.10077699  0.09984924 -0.27589006]]\n",
      "\n",
      "Pseudoinverse (square):\n",
      " [[-0.29061811 -0.13185666  0.34454366 -0.56001392  1.17453323]\n",
      " [ 0.3346863   0.24921721 -0.26510495  0.47094979 -1.16189261]\n",
      " [ 0.16200858  0.04198075 -0.11585295  0.33573002 -0.61405543]\n",
      " [ 0.06215934  0.04975067 -0.1511075   0.17963586 -0.26638061]\n",
      " [ 0.18497043  0.07155282 -0.10077699  0.09984924 -0.27589006]]\n",
      "\n",
      "Tall:\n",
      " [[ 2  2  6]\n",
      " [ 2 -2 10]\n",
      " [-2 11  9]\n",
      " [ 5  8  4]\n",
      " [ 7  1  0]\n",
      " [ 3 -3  4]]\n",
      "\n",
      "Left inverse (tall):\n",
      " [[ 0.01009338 -0.00042768 -0.04003186  0.05144764  0.08138673  0.02455317]\n",
      " [-0.00409866 -0.04207816  0.04434375  0.04200608  0.00890273 -0.03043613]\n",
      " [ 0.02405886  0.05899739  0.02377233 -0.01216573 -0.01900399  0.02509624]]\n",
      "\n",
      "Pseudoinverse (tall):\n",
      " [[ 0.01009338 -0.00042768 -0.04003186  0.05144764  0.08138673  0.02455317]\n",
      " [-0.00409866 -0.04207816  0.04434375  0.04200608  0.00890273 -0.03043613]\n",
      " [ 0.02405886  0.05899739  0.02377233 -0.01216573 -0.01900399  0.02509624]]\n"
     ]
    }
   ],
   "source": [
    "# D. Scott\n",
    "# Linear Algebra: TCI\n",
    "# Code Challenge 12.2\n",
    "# Test pseudoinverse for full-rank square and full column rank rectangular matrices\n",
    "\n",
    "import random\n",
    "import numpy as np\n",
    "\n",
    "# generate random test matrices\n",
    "num1 = []\n",
    "num2 = []\n",
    "for i in range(0,25):\n",
    "    num1.append(np.random.randint(-3,12))\n",
    "for i in range(0,18):\n",
    "    num2.append(np.random.randint(-3,12))\n",
    "square = np.array(num1).reshape(5,5)\n",
    "tall = np.array(num2).reshape(6,3)\n",
    "\n",
    "print(\"Square:\\n\",square)\n",
    "print(\"\\nInverse (square):\\n\",np.linalg.inv(square))\n",
    "print(\"\\nPseudoinverse (square):\\n\",np.linalg.pinv(square))\n",
    "\n",
    "print(\"\\nTall:\\n\",tall)\n",
    "left_inv = np.linalg.inv((tall.transpose()@tall))@tall.transpose()\n",
    "print(\"\\nLeft inverse (tall):\\n\",left_inv)\n",
    "print(\"\\nPseudoinverse (tall):\\n\",np.linalg.pinv(tall))"
   ]
  }
 ],
 "metadata": {
  "kernelspec": {
   "display_name": "base",
   "language": "python",
   "name": "python3"
  },
  "language_info": {
   "codemirror_mode": {
    "name": "ipython",
    "version": 3
   },
   "file_extension": ".py",
   "mimetype": "text/x-python",
   "name": "python",
   "nbconvert_exporter": "python",
   "pygments_lexer": "ipython3",
   "version": "3.9.12"
  },
  "orig_nbformat": 4
 },
 "nbformat": 4,
 "nbformat_minor": 2
}
