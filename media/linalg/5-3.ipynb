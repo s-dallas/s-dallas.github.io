{
 "cells": [
  {
   "cell_type": "code",
   "execution_count": 4,
   "metadata": {},
   "outputs": [
    {
     "name": "stdout",
     "output_type": "stream",
     "text": [
      "4x8 diagonal:\n",
      " [[1 0 0 0 0 0 0 0]\n",
      " [0 2 0 0 0 0 0 0]\n",
      " [0 0 3 0 0 0 0 0]\n",
      " [0 0 0 4 0 0 0 0]]\n",
      "\n",
      "8x4 diagonal:\n",
      " [[1 0 0 0]\n",
      " [0 2 0 0]\n",
      " [0 0 3 0]\n",
      " [0 0 0 4]\n",
      " [0 0 0 0]\n",
      " [0 0 0 0]\n",
      " [0 0 0 0]\n",
      " [0 0 0 0]]\n"
     ]
    }
   ],
   "source": [
    "# D. Scott\n",
    "# Linear Algebra: TCI\n",
    "# Coding Challenge 5.3\n",
    "\n",
    "import random\n",
    "import numpy as np\n",
    "\n",
    "matrix = []\n",
    "\n",
    "# generate 4 x 8 diagonal matrix\n",
    "for i in range(0,4):\n",
    "    row = []\n",
    "    for j in range(0,8):\n",
    "        if (i == j):\n",
    "            row.append(i+1)\n",
    "        else:\n",
    "            row.append(0)\n",
    "    matrix.append(row)\n",
    "\n",
    "matrix = np.array(matrix)\n",
    "\n",
    "# generate 8 x 4 diagonal matrix\n",
    "matrix2 = []\n",
    "\n",
    "for i in range(0,8):\n",
    "    row = []\n",
    "    for j in range(0,4):\n",
    "        if (i == j):\n",
    "            row.append(i+1)\n",
    "        else:\n",
    "            row.append(0)\n",
    "    matrix2.append(row)\n",
    "\n",
    "matrix2 = np.array(matrix2)\n",
    "    \n",
    "print(\"4x8 diagonal:\\n\",matrix)\n",
    "print(\"\\n8x4 diagonal:\\n\",matrix2)"
   ]
  }
 ],
 "metadata": {
  "kernelspec": {
   "display_name": "base",
   "language": "python",
   "name": "python3"
  },
  "language_info": {
   "codemirror_mode": {
    "name": "ipython",
    "version": 3
   },
   "file_extension": ".py",
   "mimetype": "text/x-python",
   "name": "python",
   "nbconvert_exporter": "python",
   "pygments_lexer": "ipython3",
   "version": "3.9.12"
  },
  "orig_nbformat": 4
 },
 "nbformat": 4,
 "nbformat_minor": 2
}
