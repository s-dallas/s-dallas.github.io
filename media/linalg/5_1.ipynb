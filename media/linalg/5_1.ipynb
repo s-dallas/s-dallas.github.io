{
 "cells": [
  {
   "cell_type": "code",
   "execution_count": 59,
   "metadata": {},
   "outputs": [
    {
     "name": "stdout",
     "output_type": "stream",
     "text": [
      "[[11  1]\n",
      " [15 20]\n",
      " [ 2 24]\n",
      " [11 18]] \n",
      "\n",
      "[[ 7 13]\n",
      " [19  8]\n",
      " [10  8]\n",
      " [11 17]] \n",
      "\n",
      "[[503 466]\n",
      " [825 671]]\n"
     ]
    }
   ],
   "source": [
    "import random\n",
    "import numpy as np\n",
    "\n",
    "num = random.randint(1,25)\n",
    "nums1 = []\n",
    "nums2 = []\n",
    "\n",
    "# generate random numbers\n",
    "for i in range(0,8):\n",
    "    nums1.append(random.randint(1,25))\n",
    "    nums2.append(random.randint(1,25))\n",
    "\n",
    "# populate matrices\n",
    "m1 = np.array([[nums1[0],nums1[1]],\n",
    "               [nums1[2],nums1[3]],\n",
    "               [nums1[4],nums1[5]],\n",
    "               [nums1[6],nums1[7]]])\n",
    "\n",
    "m2 = np.array([[nums2[0],nums2[1]],\n",
    "               [nums2[2],nums2[3]],\n",
    "               [nums2[4],nums2[5]],\n",
    "               [nums1[6],nums2[7]]])\n",
    "\n",
    "print(m1,\"\\n\")\n",
    "print(m2,\"\\n\")\n",
    "\n",
    "res = []\n",
    "\n",
    "# compute dot products between columns\n",
    "for i in range(0,2):\n",
    "    row = []\n",
    "    for j in range(0,2):\n",
    "        row.append(m1.transpose()[i].dot(m2.transpose()[j]))\n",
    "    res.append(row)\n",
    "\n",
    "# print result\n",
    "res = np.array(res)\n",
    "print(res)"
   ]
  }
 ],
 "metadata": {
  "kernelspec": {
   "display_name": "base",
   "language": "python",
   "name": "python3"
  },
  "language_info": {
   "codemirror_mode": {
    "name": "ipython",
    "version": 3
   },
   "file_extension": ".py",
   "mimetype": "text/x-python",
   "name": "python",
   "nbconvert_exporter": "python",
   "pygments_lexer": "ipython3",
   "version": "3.9.12"
  },
  "orig_nbformat": 4
 },
 "nbformat": 4,
 "nbformat_minor": 2
}
