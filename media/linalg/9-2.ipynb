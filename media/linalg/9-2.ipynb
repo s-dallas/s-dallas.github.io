{
 "cells": [
  {
   "cell_type": "code",
   "execution_count": 13,
   "metadata": {},
   "outputs": [
    {
     "name": "stdout",
     "output_type": "stream",
     "text": [
      "Random complex 3 x3 matrix:\n",
      " [[ 8.09834825 +9.02878012j 10.92301337 -5.37102381j\n",
      "   7.57435063 -2.93936826j]\n",
      " [-5.05875644 +1.67007077j -3.13095648 +4.94728746j\n",
      "   3.95478334+11.46226469j]\n",
      " [-5.26084382+11.14723424j -0.27979486 +6.05578168j\n",
      "   0.42946545 +0.02891483j]]\n",
      "\n",
      " [[ 8.09834825+0.j          2.93212846-3.52054729j  1.15675341-7.04330125j]\n",
      " [ 2.93212846+3.52054729j -3.13095648+0.j          1.83749424+2.70324151j]\n",
      " [ 1.15675341+7.04330125j  1.83749424-2.70324151j  0.42946545+0.j        ]]\n",
      "  Hermitian\n",
      "\n",
      " [[327.41957691  +0.j         133.04281351-190.65569346j\n",
      "   32.00029658-161.72021593j]\n",
      " [133.04281351+190.65569346j 219.18943647  +0.j\n",
      "  142.9019536  -49.48688236j]\n",
      " [ 32.00029658+161.72021593j 142.9019536  +49.48688236j\n",
      "  213.21977287  +0.j        ]]\n",
      "  Hermitian\n"
     ]
    }
   ],
   "source": [
    "# D. Scott\n",
    "# Linear Algebra: TCI\n",
    "# Code Challenge 9.2\n",
    "# Use procedures for symmetric matrix generation on complex matrices\n",
    "\n",
    "import random\n",
    "import numpy as np\n",
    "\n",
    "# generate random complex matrix\n",
    "num1 = []\n",
    "for i in range(0,9):\n",
    "    r = random.uniform(-6.0,12.0)\n",
    "    im = random.uniform(-6.0,12.0)\n",
    "    num1.append(complex(r,im))\n",
    "A = np.array(num1).reshape(3,3)\n",
    "A = A.astype(complex)\n",
    "H = A.transpose().conj()\n",
    "\n",
    "# use additive and multiplicative procedures to generate symmetric matrices\n",
    "S_add = 0.5*(A+H)\n",
    "S_mult = H@A\n",
    "\n",
    "# symmetric or hermitian?\n",
    "print(\"Random complex 3 x3 matrix:\\n\",A)\n",
    "print(\"\\n\",S_add)\n",
    "print(\"  Hermitian\")\n",
    "print(\"\\n\",S_mult)\n",
    "print(\"  Hermitian\")\n"
   ]
  }
 ],
 "metadata": {
  "kernelspec": {
   "display_name": "base",
   "language": "python",
   "name": "python3"
  },
  "language_info": {
   "codemirror_mode": {
    "name": "ipython",
    "version": 3
   },
   "file_extension": ".py",
   "mimetype": "text/x-python",
   "name": "python",
   "nbconvert_exporter": "python",
   "pygments_lexer": "ipython3",
   "version": "3.9.12"
  },
  "orig_nbformat": 4
 },
 "nbformat": 4,
 "nbformat_minor": 2
}
