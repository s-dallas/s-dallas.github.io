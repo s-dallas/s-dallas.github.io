{
 "cells": [
  {
   "cell_type": "code",
   "execution_count": 11,
   "metadata": {},
   "outputs": [
    {
     "name": "stdout",
     "output_type": "stream",
     "text": [
      "Square:\n",
      " [[ 3 -1 -3]\n",
      " [-5 -4  4]\n",
      " [ 8 -1 -5]]\n",
      "\n",
      "Wide:\n",
      " [[ 8  2  9 -2 12]\n",
      " [ 3  8  2  9  3]\n",
      " [-4  8 -4  8  0]]\n",
      "\n",
      "Tall:\n",
      " [[-5  9]\n",
      " [-3 12]\n",
      " [ 1 -4]\n",
      " [ 9  7]\n",
      " [ 2 11]\n",
      " [ 1  9]]\n",
      "\n",
      "Square RREF: \n",
      " (Matrix([\n",
      "[1, 0, 0],\n",
      "[0, 1, 0],\n",
      "[0, 0, 1]]), (0, 1, 2))\n",
      "\n",
      "Wide RREF: \n",
      " (Matrix([\n",
      "[1, 0, 0,   17/8, -21/8],\n",
      "[0, 1, 0,  29/32, 15/32],\n",
      "[0, 0, 1, -37/16, 57/16]]), (0, 1, 2))\n",
      "\n",
      "Tall RREF: \n",
      " (Matrix([\n",
      "[1, 0],\n",
      "[0, 1],\n",
      "[0, 0],\n",
      "[0, 0],\n",
      "[0, 0],\n",
      "[0, 0]]), (0, 1))\n"
     ]
    }
   ],
   "source": [
    "# D. Scott\n",
    "# Linear Algebra: TCI\n",
    "# Code Challenge 10.2\n",
    "# Examine RREF of square, wide, tall random matrices\n",
    "\n",
    "import random\n",
    "import numpy as np\n",
    "import sympy as sym\n",
    "\n",
    "# generate square, wide, tall random matrices\n",
    "num1 = []\n",
    "num2 = []\n",
    "num3 = []\n",
    "for i in range(0,9):\n",
    "    num1.append(random.randint(-6,12))\n",
    "for i in range(0,15):\n",
    "    num2.append(random.randint(-6,12))\n",
    "for i in range(0,12):\n",
    "    num3.append(random.randint(-6,12))\n",
    "A1 = np.array(num1).reshape(3,3)\n",
    "A2 = np.array(num2).reshape(3,5)\n",
    "A3 = np.array(num3).reshape(6,2)\n",
    "\n",
    "print(\"Square:\\n\",A1)\n",
    "print(\"\\nWide:\\n\",A2)\n",
    "print(\"\\nTall:\\n\",A3)\n",
    "\n",
    "print(\"\\nSquare RREF: \\n\",sym.Matrix(A1).rref())\n",
    "print(\"\\nWide RREF: \\n\",sym.Matrix(A2).rref())\n",
    "print(\"\\nTall RREF: \\n\",sym.Matrix(A3).rref())"
   ]
  }
 ],
 "metadata": {
  "kernelspec": {
   "display_name": "base",
   "language": "python",
   "name": "python3"
  },
  "language_info": {
   "codemirror_mode": {
    "name": "ipython",
    "version": 3
   },
   "file_extension": ".py",
   "mimetype": "text/x-python",
   "name": "python",
   "nbconvert_exporter": "python",
   "pygments_lexer": "ipython3",
   "version": "3.9.12"
  },
  "orig_nbformat": 4
 },
 "nbformat": 4,
 "nbformat_minor": 2
}
