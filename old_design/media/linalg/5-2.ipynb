{
 "cells": [
  {
   "cell_type": "code",
   "execution_count": 9,
   "metadata": {},
   "outputs": [
    {
     "name": "stdout",
     "output_type": "stream",
     "text": [
      "[[2 6 8 8 2 8]\n",
      " [3 5 3 1 4 4]\n",
      " [1 4 1 5 6 8]\n",
      " [5 1 5 4 3 7]\n",
      " [7 3 5 3 8 8]\n",
      " [2 5 2 7 5 6]]\n",
      "\n",
      "Symmetric matrix: \n",
      " [[ 8  9  9 13  9 10]\n",
      " [ 9 20  7  2  7  9]\n",
      " [ 9  7  4 10 11 10]\n",
      " [13  2 10 16  6 14]\n",
      " [ 9  7 11  6 32 13]\n",
      " [10  9 10 14 13 24]]\n"
     ]
    }
   ],
   "source": [
    "# D. Scott\n",
    "# Linear Algebra: TCI\n",
    "# Coding Challenge 5.2\n",
    "\n",
    "import random\n",
    "import numpy as np\n",
    "\n",
    "matrix = []\n",
    "\n",
    "# generate dense matrix with random numbers\n",
    "for i in range(0,6):\n",
    "    row = []\n",
    "    for j in range(0,6):\n",
    "        row.append(random.randint(1,8))\n",
    "    matrix.append(row)\n",
    "\n",
    "matrix = np.array(matrix)\n",
    "    \n",
    "print(matrix)\n",
    "\n",
    "# extract upper and lower triangulars from matrix\n",
    "upper = np.triu(matrix)\n",
    "lower = np.tril(matrix)\n",
    "\n",
    "# transpose upper and lower diagonals\n",
    "u_t = upper.transpose()\n",
    "l_t = lower.transpose()\n",
    "\n",
    "# add upper and lower triangulars\n",
    "u_plus_l = upper+lower\n",
    "\n",
    "# add upper and lower transpositions\n",
    "u_t_plus_l_t = u_t + l_t\n",
    "\n",
    "# add previous two sums\n",
    "result = u_plus_l + u_t_plus_l_t\n",
    "\n",
    "print(\"\\nSymmetric matrix: \\n\",result)\n"
   ]
  }
 ],
 "metadata": {
  "kernelspec": {
   "display_name": "base",
   "language": "python",
   "name": "python3"
  },
  "language_info": {
   "codemirror_mode": {
    "name": "ipython",
    "version": 3
   },
   "file_extension": ".py",
   "mimetype": "text/x-python",
   "name": "python",
   "nbconvert_exporter": "python",
   "pygments_lexer": "ipython3",
   "version": "3.9.12"
  },
  "orig_nbformat": 4
 },
 "nbformat": 4,
 "nbformat_minor": 2
}
