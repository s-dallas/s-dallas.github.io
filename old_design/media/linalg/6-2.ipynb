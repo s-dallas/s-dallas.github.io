{
 "cells": [
  {
   "cell_type": "code",
   "execution_count": 19,
   "metadata": {},
   "outputs": [
    {
     "name": "stdout",
     "output_type": "stream",
     "text": [
      "Diagonal matrix:\n",
      " [[ 5  0  0  0]\n",
      " [ 0  7  0  0]\n",
      " [ 0  0 -1  0]\n",
      " [ 0  0  0 12]] \n",
      "\n",
      "Dense matrix:\n",
      " [[-2  3  3 12]\n",
      " [ 7  8 12 -3]\n",
      " [11 10 11  9]\n",
      " [11  8 10  7]] \n",
      "\n",
      "Standard multiplication:\n",
      " [[-10  15  15  60]\n",
      " [ 49  56  84 -21]\n",
      " [-11 -10 -11  -9]\n",
      " [132  96 120  84]] \n",
      "\tDiag:  [-10  56 -11  84] \n",
      "\n",
      "Hadamard multiplication:\n",
      " [[-10   0   0   0]\n",
      " [  0  56   0   0]\n",
      " [  0   0 -11   0]\n",
      " [  0   0   0  84]] \n",
      "\tDiag:  [-10  56 -11  84] \n",
      "\n",
      "The two different products have the same diagonals.\n"
     ]
    }
   ],
   "source": [
    "# D. Scott\n",
    "# Linear Algebra: TCI\n",
    "# Code Challenge 6.2\n",
    "# Compare diagonals of normal and Hadamard products\n",
    "\n",
    "import random\n",
    "import numpy as np\n",
    "\n",
    "nums1 = []\n",
    "nums2 = []\n",
    "\n",
    "# generate random numbers\n",
    "for i in range(0,16):\n",
    "    r_num = 0\n",
    "    while (r_num == 0):\n",
    "        r_num = random.randint(-4,12)\n",
    "    nums2.append(r_num)\n",
    "\n",
    "# generate dense 4 x 4 matrix\n",
    "m2 = np.array([[nums2[0],nums2[1],nums2[2],nums2[3]],\n",
    "               [nums2[4],nums2[5],nums2[6],nums2[7]],\n",
    "               [nums2[8],nums2[9],nums2[10],nums2[11]],\n",
    "               [nums2[12],nums2[13],nums2[14],nums2[15]]])\n",
    "\n",
    "m1 = np.empty((4,4),dtype=int)\n",
    "\n",
    "# generate diagonal 4 x 4 matrix\n",
    "for i in range(0,4):\n",
    "    for j in range(0,4):\n",
    "        r_num = 0\n",
    "        while (r_num == 0):\n",
    "            r_num = random.randint(-4,12)        \n",
    "        if (i == j):\n",
    "            m1[i][j] = r_num\n",
    "        else:\n",
    "            m1[i][j] = 0\n",
    "\n",
    "print(\"Diagonal matrix:\\n\",m1,\"\\n\")\n",
    "print(\"Dense matrix:\\n\",m2,\"\\n\")\n",
    "\n",
    "print(\"Standard multiplication:\\n\",m1@m2,\"\\n\\tDiag: \",np.diag(m1@m2),\"\\n\")\n",
    "print(\"Hadamard multiplication:\\n\",m1*m2,\"\\n\\tDiag: \",np.diag(m1*m2),\"\\n\")\n",
    "\n",
    "print(\"The two different products have the same diagonals.\")"
   ]
  }
 ],
 "metadata": {
  "kernelspec": {
   "display_name": "base",
   "language": "python",
   "name": "python3"
  },
  "language_info": {
   "codemirror_mode": {
    "name": "ipython",
    "version": 3
   },
   "file_extension": ".py",
   "mimetype": "text/x-python",
   "name": "python",
   "nbconvert_exporter": "python",
   "pygments_lexer": "ipython3",
   "version": "3.9.12"
  },
  "orig_nbformat": 4
 },
 "nbformat": 4,
 "nbformat_minor": 2
}
