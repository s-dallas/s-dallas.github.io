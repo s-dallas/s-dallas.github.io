{
 "cells": [
  {
   "cell_type": "code",
   "execution_count": 1,
   "metadata": {},
   "outputs": [
    {
     "name": "stdout",
     "output_type": "stream",
     "text": [
      "[[0 0 0 0 0]\n",
      " [0 0 0 0 0]\n",
      " [0 0 0 0 0]\n",
      " [0 0 0 0 0]\n",
      " [0 0 0 0 0]]\n",
      "Rank:  0 \n",
      "\n",
      "[[-1.11022302e-15  2.22044605e-15  2.22044605e-16 -2.22044605e-16\n",
      "  -4.44089210e-16]\n",
      " [-4.44089210e-16  8.88178420e-16  2.66453526e-15 -6.66133815e-16\n",
      "   2.66453526e-15]\n",
      " [ 1.55431223e-15  2.22044605e-16  2.66453526e-15  2.22044605e-16\n",
      "  -8.88178420e-16]\n",
      " [-1.11022302e-15 -6.66133815e-16  2.66453526e-15  0.00000000e+00\n",
      "  -4.44089210e-16]\n",
      " [ 1.77635684e-15  8.88178420e-16  1.55431223e-15 -1.33226763e-15\n",
      "  -1.11022302e-15]]\n",
      "Rank_summed:  5\n"
     ]
    }
   ],
   "source": [
    "# D. Scott\n",
    "# Linear Algebra: TCI\n",
    "# Code Challenge 7.2\n",
    "# Generate full-rank random matrix\n",
    "\n",
    "import random\n",
    "import numpy as np\n",
    "\n",
    "num = []\n",
    "for i in range(0,25):\n",
    "    num.append(random.randint(-6,12))\n",
    "r_mat = np.array(num).reshape(5,5)\n",
    "\n",
    "z = np.zeros((5,5),dtype=int)\n",
    "eps = np.finfo(float).eps\n",
    "print(z)\n",
    "print(\"Rank: \",np.linalg.matrix_rank(z),\"\\n\")\n",
    "S = r_mat*eps\n",
    "print(S)\n",
    "print(\"Rank_summed: \",np.linalg.matrix_rank(z+S))\n",
    "\n"
   ]
  }
 ],
 "metadata": {
  "kernelspec": {
   "display_name": "base",
   "language": "python",
   "name": "python3"
  },
  "language_info": {
   "codemirror_mode": {
    "name": "ipython",
    "version": 3
   },
   "file_extension": ".py",
   "mimetype": "text/x-python",
   "name": "python",
   "nbconvert_exporter": "python",
   "pygments_lexer": "ipython3",
   "version": "3.9.12"
  },
  "orig_nbformat": 4
 },
 "nbformat": 4,
 "nbformat_minor": 2
}
