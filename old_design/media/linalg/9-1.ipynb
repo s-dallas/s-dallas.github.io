{
 "cells": [
  {
   "cell_type": "code",
   "execution_count": 19,
   "metadata": {},
   "outputs": [
    {
     "name": "stdout",
     "output_type": "stream",
     "text": [
      "Unitary matrix [U]: \n",
      " [[0.5+0.5j 0.5-0.5j]\n",
      " [0.5-0.5j 0.5+0.5j]]\n",
      "\n",
      "U.H:\n",
      " [[0.5-0.5j 0.5+0.5j]\n",
      " [0.5+0.5j 0.5-0.5j]]\n",
      "\n",
      "U.H@U:\n",
      " [[1.+0.j 0.+0.j]\n",
      " [0.+0.j 1.+0.j]]\n",
      "  (Identity matrix)\n",
      "\n",
      "U.T@U:\n",
      " [[0.+0.j 1.+0.j]\n",
      " [1.+0.j 0.+0.j]]\n",
      "  (Not identity matrix)\n"
     ]
    }
   ],
   "source": [
    "# D. Scott\n",
    "# Linear Algebra: TCI\n",
    "# Code Challenge 9.1\n",
    "# Unitary transpose versus unitary Hermitian transpose\n",
    "\n",
    "import numpy as np\n",
    "\n",
    "U = np.zeros((2,2),dtype=complex)\n",
    "U[0,0] = 1+1j\n",
    "U[0,1] = 1-1j\n",
    "U[1,1] = 1+1j\n",
    "U[1,0] = 1-1j\n",
    "\n",
    "U *= 0.5\n",
    "\n",
    "print(\"Unitary matrix [U]: \\n\",U)\n",
    "\n",
    "U_H = U.transpose().conj()\n",
    "\n",
    "print(\"\\nU.H:\\n\",U_H)\n",
    "\n",
    "print(\"\\nU.H@U:\\n\",U_H@U)\n",
    "print(\"  (Identity matrix)\")\n",
    "\n",
    "print(\"\\nU.T@U:\\n\",U.transpose()@U)\n",
    "print(\"  (Not identity matrix)\")"
   ]
  },
  {
   "cell_type": "code",
   "execution_count": null,
   "metadata": {},
   "outputs": [],
   "source": []
  }
 ],
 "metadata": {
  "kernelspec": {
   "display_name": "base",
   "language": "python",
   "name": "python3"
  },
  "language_info": {
   "codemirror_mode": {
    "name": "ipython",
    "version": 3
   },
   "file_extension": ".py",
   "mimetype": "text/x-python",
   "name": "python",
   "nbconvert_exporter": "python",
   "pygments_lexer": "ipython3",
   "version": "3.9.12"
  },
  "orig_nbformat": 4
 },
 "nbformat": 4,
 "nbformat_minor": 2
}
